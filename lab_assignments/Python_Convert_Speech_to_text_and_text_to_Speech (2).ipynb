{
  "nbformat": 4,
  "nbformat_minor": 0,
  "metadata": {
    "colab": {
      "provenance": [],
      "gpuType": "T4"
    },
    "kernelspec": {
      "name": "python3",
      "display_name": "Python 3"
    },
    "language_info": {
      "name": "python"
    },
    "accelerator": "GPU"
  },
  "cells": [
    {
      "cell_type": "code",
      "source": [
        "!sudo apt-get install portaudio19-dev # Linux-case\n",
        "!python -m pip install pyaudio\n",
        "!pip install SpeechRecognition\n",
        "!pip install pyttsx3"
      ],
      "metadata": {
        "colab": {
          "base_uri": "https://localhost:8080/"
        },
        "id": "Dgz1QcOK2z4r",
        "outputId": "ad026a74-3f5f-4b1a-8b7f-8250a10ed366"
      },
      "execution_count": 2,
      "outputs": [
        {
          "output_type": "stream",
          "name": "stdout",
          "text": [
            "Reading package lists... Done\n",
            "Building dependency tree... Done\n",
            "Reading state information... Done\n",
            "portaudio19-dev is already the newest version (19.6.0-1.1).\n",
            "0 upgraded, 0 newly installed, 0 to remove and 74 not upgraded.\n",
            "Requirement already satisfied: pyaudio in /usr/local/lib/python3.12/dist-packages (0.2.14)\n",
            "Requirement already satisfied: SpeechRecognition in /usr/local/lib/python3.12/dist-packages (3.14.3)\n",
            "Requirement already satisfied: typing-extensions in /usr/local/lib/python3.12/dist-packages (from SpeechRecognition) (4.14.1)\n",
            "Requirement already satisfied: pyttsx3 in /usr/local/lib/python3.12/dist-packages (2.90)\n"
          ]
        }
      ]
    },
    {
      "cell_type": "code",
      "source": [
        "pip install --upgrade pyttsx3\n"
      ],
      "metadata": {
        "colab": {
          "base_uri": "https://localhost:8080/"
        },
        "id": "BBAdB6_v-7bM",
        "outputId": "f7150894-d864-471b-e462-ef46732e3a11"
      },
      "execution_count": 3,
      "outputs": [
        {
          "output_type": "stream",
          "name": "stdout",
          "text": [
            "Requirement already satisfied: pyttsx3 in /usr/local/lib/python3.12/dist-packages (2.90)\n",
            "Collecting pyttsx3\n",
            "  Using cached pyttsx3-2.99-py3-none-any.whl.metadata (6.2 kB)\n",
            "Using cached pyttsx3-2.99-py3-none-any.whl (32 kB)\n",
            "Installing collected packages: pyttsx3\n",
            "  Attempting uninstall: pyttsx3\n",
            "    Found existing installation: pyttsx3 2.90\n",
            "    Uninstalling pyttsx3-2.90:\n",
            "      Successfully uninstalled pyttsx3-2.90\n",
            "Successfully installed pyttsx3-2.99\n"
          ]
        }
      ]
    },
    {
      "cell_type": "code",
      "source": [
        "pip uninstall pyttsx3\n"
      ],
      "metadata": {
        "id": "i6OthVzCAMAe",
        "colab": {
          "base_uri": "https://localhost:8080/"
        },
        "outputId": "2a1a2b8a-f675-48d0-c1ff-de5b45b97b4b"
      },
      "execution_count": 4,
      "outputs": [
        {
          "output_type": "stream",
          "name": "stdout",
          "text": [
            "Found existing installation: pyttsx3 2.99\n",
            "Uninstalling pyttsx3-2.99:\n",
            "  Would remove:\n",
            "    /usr/local/lib/python3.12/dist-packages/pyttsx3-2.99.dist-info/*\n",
            "    /usr/local/lib/python3.12/dist-packages/pyttsx3/*\n",
            "Proceed (Y/n)? \u001b[31mERROR: Operation cancelled by user\u001b[0m\u001b[31m\n",
            "\u001b[0mTraceback (most recent call last):\n",
            "  File \"/usr/local/lib/python3.12/dist-packages/pip/_internal/cli/base_command.py\", line 179, in exc_logging_wrapper\n",
            "    status = run_func(*args)\n",
            "             ^^^^^^^^^^^^^^^\n",
            "  File \"/usr/local/lib/python3.12/dist-packages/pip/_internal/commands/uninstall.py\", line 106, in run\n",
            "    uninstall_pathset = req.uninstall(\n",
            "                        ^^^^^^^^^^^^^^\n",
            "  File \"/usr/local/lib/python3.12/dist-packages/pip/_internal/req/req_install.py\", line 722, in uninstall\n",
            "    uninstalled_pathset.remove(auto_confirm, verbose)\n",
            "  File \"/usr/local/lib/python3.12/dist-packages/pip/_internal/req/req_uninstall.py\", line 364, in remove\n",
            "    if auto_confirm or self._allowed_to_proceed(verbose):\n",
            "                       ^^^^^^^^^^^^^^^^^^^^^^^^^^^^^^^^^\n",
            "  File \"/usr/local/lib/python3.12/dist-packages/pip/_internal/req/req_uninstall.py\", line 404, in _allowed_to_proceed\n",
            "    return ask(\"Proceed (Y/n)? \", (\"y\", \"n\", \"\")) != \"n\"\n",
            "           ^^^^^^^^^^^^^^^^^^^^^^^^^^^^^^^^^^^^^^\n",
            "  File \"/usr/local/lib/python3.12/dist-packages/pip/_internal/utils/misc.py\", line 235, in ask\n",
            "    response = input(message)\n",
            "               ^^^^^^^^^^^^^^\n",
            "KeyboardInterrupt\n",
            "\n",
            "During handling of the above exception, another exception occurred:\n",
            "\n",
            "Traceback (most recent call last):\n",
            "  File \"/usr/local/bin/pip3\", line 10, in <module>\n",
            "    sys.exit(main())\n",
            "             ^^^^^^\n",
            "  File \"/usr/local/lib/python3.12/dist-packages/pip/_internal/cli/main.py\", line 80, in main\n",
            "    return command.main(cmd_args)\n",
            "           ^^^^^^^^^^^^^^^^^^^^^^\n",
            "  File \"/usr/local/lib/python3.12/dist-packages/pip/_internal/cli/base_command.py\", line 100, in main\n",
            "    return self._main(args)\n",
            "           ^^^^^^^^^^^^^^^^\n",
            "  File \"/usr/local/lib/python3.12/dist-packages/pip/_internal/cli/base_command.py\", line 232, in _main\n",
            "    return run(options, args)\n",
            "           ^^^^^^^^^^^^^^^^^^\n",
            "  File \"/usr/local/lib/python3.12/dist-packages/pip/_internal/cli/base_command.py\", line 215, in exc_logging_wrapper\n",
            "    logger.critical(\"Operation cancelled by user\")\n",
            "  File \"/usr/lib/python3.12/logging/__init__.py\", line 1586, in critical\n",
            "    self._log(CRITICAL, msg, args, **kwargs)\n",
            "  File \"/usr/lib/python3.12/logging/__init__.py\", line 1684, in _log\n",
            "    self.handle(record)\n",
            "  File \"/usr/lib/python3.12/logging/__init__.py\", line 1700, in handle\n",
            "    self.callHandlers(record)\n",
            "  File \"/usr/lib/python3.12/logging/__init__.py\", line 1762, in callHandlers\n",
            "    hdlr.handle(record)\n",
            "  File \"/usr/lib/python3.12/logging/__init__.py\", line 1028, in handle\n",
            "    self.emit(record)\n",
            "  File \"/usr/lib/python3.12/logging/handlers.py\", line 75, in emit\n",
            "    logging.FileHandler.emit(self, record)\n",
            "  File \"/usr/lib/python3.12/logging/__init__.py\", line 1280, in emit\n",
            "    StreamHandler.emit(self, record)\n",
            "  File \"/usr/lib/python3.12/logging/__init__.py\", line 1164, in emit\n",
            "    self.flush()\n",
            "  File \"/usr/lib/python3.12/logging/__init__.py\", line 1144, in flush\n",
            "    self.stream.flush()\n",
            "KeyboardInterrupt\n",
            "^C\n"
          ]
        }
      ]
    },
    {
      "cell_type": "code",
      "source": [
        "\n",
        "pip install pyttsx3==2.90\n"
      ],
      "metadata": {
        "colab": {
          "base_uri": "https://localhost:8080/"
        },
        "id": "WATHjvx2AASv",
        "outputId": "e3b4b429-89ca-4c8f-f1f7-dde55287ba7b"
      },
      "execution_count": 5,
      "outputs": [
        {
          "output_type": "stream",
          "name": "stdout",
          "text": [
            "Collecting pyttsx3==2.90\n",
            "  Using cached pyttsx3-2.90-py3-none-any.whl.metadata (3.6 kB)\n",
            "Using cached pyttsx3-2.90-py3-none-any.whl (39 kB)\n",
            "Installing collected packages: pyttsx3\n",
            "  Attempting uninstall: pyttsx3\n",
            "    Found existing installation: pyttsx3 2.99\n",
            "    Uninstalling pyttsx3-2.99:\n",
            "      Successfully uninstalled pyttsx3-2.99\n",
            "Successfully installed pyttsx3-2.90\n"
          ]
        }
      ]
    },
    {
      "cell_type": "code",
      "source": [
        "!sudo apt-get install -y espeak\n"
      ],
      "metadata": {
        "colab": {
          "base_uri": "https://localhost:8080/"
        },
        "id": "6hGb-SYTAsV_",
        "outputId": "440485c0-979b-4f93-c332-ba5cd78af79a"
      },
      "execution_count": 6,
      "outputs": [
        {
          "output_type": "stream",
          "name": "stdout",
          "text": [
            "Reading package lists... Done\n",
            "Building dependency tree... Done\n",
            "Reading state information... Done\n",
            "espeak is already the newest version (1.48.15+dfsg-3).\n",
            "0 upgraded, 0 newly installed, 0 to remove and 74 not upgraded.\n"
          ]
        }
      ]
    },
    {
      "cell_type": "code",
      "source": [
        "!sudo apt-get update\n"
      ],
      "metadata": {
        "colab": {
          "base_uri": "https://localhost:8080/"
        },
        "id": "jxbFbaodA0ZX",
        "outputId": "3eeec364-e172-47e0-f9f9-e9ec759416f9"
      },
      "execution_count": 7,
      "outputs": [
        {
          "output_type": "stream",
          "name": "stdout",
          "text": [
            "\r0% [Working]\r            \rHit:1 https://cloud.r-project.org/bin/linux/ubuntu jammy-cran40/ InRelease\n",
            "\r0% [Waiting for headers] [Connecting to security.ubuntu.com (185.125.190.83)] [\r                                                                               \rGet:2 https://cli.github.com/packages stable InRelease [3,917 B]\n",
            "\r0% [Waiting for headers] [Connecting to security.ubuntu.com (185.125.190.83)] [\r                                                                               \rHit:3 https://developer.download.nvidia.com/compute/cuda/repos/ubuntu2204/x86_64  InRelease\n",
            "Hit:4 http://archive.ubuntu.com/ubuntu jammy InRelease\n",
            "Hit:5 http://archive.ubuntu.com/ubuntu jammy-updates InRelease\n",
            "Get:6 http://security.ubuntu.com/ubuntu jammy-security InRelease [129 kB]\n",
            "Hit:7 http://archive.ubuntu.com/ubuntu jammy-backports InRelease\n",
            "Hit:8 https://r2u.stat.illinois.edu/ubuntu jammy InRelease\n",
            "Hit:9 https://ppa.launchpadcontent.net/deadsnakes/ppa/ubuntu jammy InRelease\n",
            "Hit:10 https://ppa.launchpadcontent.net/graphics-drivers/ppa/ubuntu jammy InRelease\n",
            "Hit:11 https://ppa.launchpadcontent.net/ubuntugis/ppa/ubuntu jammy InRelease\n",
            "Fetched 133 kB in 1s (113 kB/s)\n",
            "Reading package lists... Done\n",
            "W: Skipping acquire of configured file 'main/source/Sources' as repository 'https://r2u.stat.illinois.edu/ubuntu jammy InRelease' does not seem to provide it (sources.list entry misspelt?)\n"
          ]
        }
      ]
    },
    {
      "cell_type": "code",
      "source": [
        "!pip install noisereduce"
      ],
      "metadata": {
        "colab": {
          "base_uri": "https://localhost:8080/"
        },
        "id": "_H3iC0pWU2Tr",
        "outputId": "33dae37f-8a21-4f55-c8bd-7678411fb8a8"
      },
      "execution_count": 8,
      "outputs": [
        {
          "output_type": "stream",
          "name": "stdout",
          "text": [
            "Requirement already satisfied: noisereduce in /usr/local/lib/python3.12/dist-packages (3.0.3)\n",
            "Requirement already satisfied: scipy in /usr/local/lib/python3.12/dist-packages (from noisereduce) (1.16.1)\n",
            "Requirement already satisfied: matplotlib in /usr/local/lib/python3.12/dist-packages (from noisereduce) (3.10.0)\n",
            "Requirement already satisfied: numpy in /usr/local/lib/python3.12/dist-packages (from noisereduce) (2.0.2)\n",
            "Requirement already satisfied: tqdm in /usr/local/lib/python3.12/dist-packages (from noisereduce) (4.67.1)\n",
            "Requirement already satisfied: joblib in /usr/local/lib/python3.12/dist-packages (from noisereduce) (1.5.1)\n",
            "Requirement already satisfied: contourpy>=1.0.1 in /usr/local/lib/python3.12/dist-packages (from matplotlib->noisereduce) (1.3.3)\n",
            "Requirement already satisfied: cycler>=0.10 in /usr/local/lib/python3.12/dist-packages (from matplotlib->noisereduce) (0.12.1)\n",
            "Requirement already satisfied: fonttools>=4.22.0 in /usr/local/lib/python3.12/dist-packages (from matplotlib->noisereduce) (4.59.1)\n",
            "Requirement already satisfied: kiwisolver>=1.3.1 in /usr/local/lib/python3.12/dist-packages (from matplotlib->noisereduce) (1.4.9)\n",
            "Requirement already satisfied: packaging>=20.0 in /usr/local/lib/python3.12/dist-packages (from matplotlib->noisereduce) (25.0)\n",
            "Requirement already satisfied: pillow>=8 in /usr/local/lib/python3.12/dist-packages (from matplotlib->noisereduce) (11.3.0)\n",
            "Requirement already satisfied: pyparsing>=2.3.1 in /usr/local/lib/python3.12/dist-packages (from matplotlib->noisereduce) (3.2.3)\n",
            "Requirement already satisfied: python-dateutil>=2.7 in /usr/local/lib/python3.12/dist-packages (from matplotlib->noisereduce) (2.9.0.post0)\n",
            "Requirement already satisfied: six>=1.5 in /usr/local/lib/python3.12/dist-packages (from python-dateutil>=2.7->matplotlib->noisereduce) (1.17.0)\n"
          ]
        }
      ]
    },
    {
      "cell_type": "code",
      "source": [
        "import noisereduce as nr\n",
        "from scipy.io import wavfile\n",
        "import numpy as np\n",
        "\n",
        "# 1. Load the noisy audio file\n",
        "rate, data = wavfile.read(\"my_noisy_audio.wav\")  # Replace with your file path\n",
        "\n",
        "# 2. If stereo, convert to mono\n",
        "if len(data.shape) == 2:\n",
        "    data = data.mean(axis=1).astype(data.dtype)  # average the two channels\n",
        "\n",
        "# 3. Select noise clip (e.g., first 1 second)\n",
        "noise_clip = data[0:rate]\n",
        "\n",
        "# 4. Perform noise reduction\n",
        "reduced_noise = nr.reduce_noise(y=data, y_noise=noise_clip, sr=rate)\n",
        "\n",
        "# 5. Save the cleaned audio\n",
        "wavfile.write(\"my_cleaned_audio.wav\", rate, reduced_noise.astype(data.dtype))\n",
        "\n",
        "print(\"✅ Noise reduction complete!\")\n"
      ],
      "metadata": {
        "colab": {
          "base_uri": "https://localhost:8080/"
        },
        "id": "AEiQ9_ARUO87",
        "outputId": "4191a49f-b862-4bda-c3ee-1f1ba0f31d2a"
      },
      "execution_count": 1,
      "outputs": [
        {
          "output_type": "stream",
          "name": "stdout",
          "text": [
            "✅ Noise reduction complete!\n"
          ]
        }
      ]
    },
    {
      "cell_type": "code",
      "source": [],
      "metadata": {
        "id": "UNpvlM08Xdkx"
      },
      "execution_count": null,
      "outputs": []
    },
    {
      "cell_type": "markdown",
      "source": [
        "## Clean audio"
      ],
      "metadata": {
        "id": "JTpeHZGrafWv"
      }
    },
    {
      "cell_type": "code",
      "source": [
        "import speech_recognition as sr\n",
        "import pyttsx3\n",
        "\n",
        "# Initialize the recognizer\n",
        "r = sr.Recognizer()\n",
        "\n",
        "# Function to convert text to speech\n",
        "def SpeakText(command):\n",
        "    engine = pyttsx3.init()\n",
        "    engine.say(command)\n",
        "    engine.runAndWait()\n",
        "\n",
        "# Path to your audio file\n",
        "audio_file = \"/content/my_clean_audio.wav\"   # <-- put your audio file here\n",
        "\n",
        "# Use the audio file instead of microphone\n",
        "with sr.AudioFile(audio_file) as source:\n",
        "    # listen for the data (load audio to memory)\n",
        "    audio_data = r.record(source)\n",
        "\n",
        "    # recognize (convert from speech to text)\n",
        "    try:\n",
        "        clean_audio_text = r.recognize_google(audio_data)\n",
        "        clean_audio_text = clean_audio_text.lower()\n",
        "        print(\"Did you say:\", clean_audio_text)\n",
        "        SpeakText(clean_audio_text)\n",
        "    except sr.RequestError as e:\n",
        "        print(\"Could not request results; {0}\".format(e))\n",
        "    except sr.UnknownValueError:\n",
        "        print(\"Unknown error occurred\")\n",
        "\n"
      ],
      "metadata": {
        "colab": {
          "base_uri": "https://localhost:8080/"
        },
        "id": "9Y-wACHbv2l2",
        "outputId": "dd8c5cdb-e13b-4cc0-cdd0-cf09f88bc31c"
      },
      "execution_count": 8,
      "outputs": [
        {
          "output_type": "stream",
          "name": "stdout",
          "text": [
            "Did you say: hello this is a test for speech recognition i am speaking at a normal pace with clear pronunciation and the purpose of this recording is to check the accuracy of transcription recognize every word correctly even if i had a little variation and speed thank you for listening and let's see how well the model performs on this audio clip\n"
          ]
        }
      ]
    },
    {
      "cell_type": "code",
      "source": [
        "clean_audio_text"
      ],
      "metadata": {
        "colab": {
          "base_uri": "https://localhost:8080/",
          "height": 55
        },
        "id": "0gYRE_9tbCBd",
        "outputId": "bbd30dde-d231-4034-de89-c6964516a261"
      },
      "execution_count": 17,
      "outputs": [
        {
          "output_type": "execute_result",
          "data": {
            "text/plain": [
              "\"hello this is a test for speech recognition i am speaking at a normal pace with clear pronunciation and the purpose of this recording is to check the accuracy of transcription recognize every word correctly even if i had a little variation and speed thank you for listening and let's see how well the model performs on this audio clip\""
            ],
            "application/vnd.google.colaboratory.intrinsic+json": {
              "type": "string"
            }
          },
          "metadata": {},
          "execution_count": 17
        }
      ]
    },
    {
      "cell_type": "markdown",
      "source": [
        "## Noisy audio"
      ],
      "metadata": {
        "id": "OqymdjX4gSh6"
      }
    },
    {
      "cell_type": "code",
      "source": [
        "import speech_recognition as sr\n",
        "import pyttsx3\n",
        "\n",
        "# Initialize the recognizer\n",
        "r = sr.Recognizer()\n",
        "\n",
        "# Function to convert text to speech\n",
        "def SpeakText(command):\n",
        "    engine = pyttsx3.init()\n",
        "    engine.say(command)\n",
        "    engine.runAndWait()\n",
        "\n",
        "# Path to your audio file\n",
        "audio_file = \"/content/my_noisy_audio.wav\"   # <-- put your audio file here\n",
        "\n",
        "# Use the audio file instead of microphone\n",
        "with sr.AudioFile(audio_file) as source:\n",
        "    # listen for the data (load audio to memory)\n",
        "    audio_data = r.record(source)\n",
        "\n",
        "    # recognize (convert from speech to text)\n",
        "    try:\n",
        "        noisy_audio_text = r.recognize_google(audio_data)\n",
        "        noisy_audio_text = noisy_audio_text.lower()\n",
        "        print(\"Did you say:\", noisy_audio_text)\n",
        "        SpeakText(noisy_audio_text)\n",
        "    except sr.RequestError as e:\n",
        "        print(\"Could not request results; {0}\".format(e))\n",
        "    except sr.UnknownValueError:\n",
        "        print(\"Unknown error occurred\")\n"
      ],
      "metadata": {
        "id": "bxjsC6KyB2ge",
        "colab": {
          "base_uri": "https://localhost:8080/"
        },
        "outputId": "102dfc01-98fe-49ec-fdf9-1e4aca38fb75"
      },
      "execution_count": 6,
      "outputs": [
        {
          "output_type": "stream",
          "name": "stdout",
          "text": [
            "Did you say: hello this is a good test for speech recognition i am speaking normal place with me up in a season the purpose of this recording is to check the accuracy of the transcription display asr should recognize every word correctly even if i had a little variation in tone and speed thank you for listening let's see\n"
          ]
        }
      ]
    },
    {
      "cell_type": "code",
      "source": [
        "noisy_audio_text"
      ],
      "metadata": {
        "colab": {
          "base_uri": "https://localhost:8080/",
          "height": 55
        },
        "id": "tLW9BcTMbTId",
        "outputId": "b893940c-7785-420d-f36a-6904465fe698"
      },
      "execution_count": 18,
      "outputs": [
        {
          "output_type": "execute_result",
          "data": {
            "text/plain": [
              "\"hello this is a good test for speech recognition i am speaking normal place with me up in a season the purpose of this recording is to check the accuracy of the transcription display asr should recognize every word correctly even if i had a little variation in tone and speed thank you for listening let's see\""
            ],
            "application/vnd.google.colaboratory.intrinsic+json": {
              "type": "string"
            }
          },
          "metadata": {},
          "execution_count": 18
        }
      ]
    },
    {
      "cell_type": "markdown",
      "source": [
        "## Cleaned Audio"
      ],
      "metadata": {
        "id": "jcgn51HzgVD2"
      }
    },
    {
      "cell_type": "code",
      "source": [
        "import speech_recognition as sr\n",
        "import pyttsx3\n",
        "\n",
        "# Initialize the recognizer\n",
        "r = sr.Recognizer()\n",
        "\n",
        "# Function to convert text to speech\n",
        "def SpeakText(command):\n",
        "    engine = pyttsx3.init()\n",
        "    engine.say(command)\n",
        "    engine.runAndWait()\n",
        "\n",
        "# Path to your audio file\n",
        "audio_file = \"/content/my_cleaned_audio.wav\"   # <-- put your audio file here\n",
        "\n",
        "# Use the audio file instead of microphone\n",
        "with sr.AudioFile(audio_file) as source:\n",
        "    # listen for the data (load audio to memory)\n",
        "    audio_data = r.record(source)\n",
        "\n",
        "    # recognize (convert from speech to text)\n",
        "    try:\n",
        "        cleaned_audio_text = r.recognize_google(audio_data)\n",
        "        cleaned_audio_text = cleaned_audio_text.lower()\n",
        "        print(\"Did you say:\", cleaned_audio_text)\n",
        "        SpeakText(cleaned_audio_text)\n",
        "    except sr.RequestError as e:\n",
        "        print(\"Could not request results; {0}\".format(e))\n",
        "    except sr.UnknownValueError:\n",
        "        print(\"Unknown error occurred\")\n"
      ],
      "metadata": {
        "colab": {
          "base_uri": "https://localhost:8080/"
        },
        "id": "8DzxQjSZU1Ly",
        "outputId": "82669224-68cf-4610-a1b8-e5cbd60dc8b9"
      },
      "execution_count": 10,
      "outputs": [
        {
          "output_type": "stream",
          "name": "stdout",
          "text": [
            "Did you say: hello this is a picture of speech recognition i'm thinking about this weekend that transcription definition\n"
          ]
        }
      ]
    },
    {
      "cell_type": "code",
      "source": [
        "cleaned_audio_text"
      ],
      "metadata": {
        "colab": {
          "base_uri": "https://localhost:8080/",
          "height": 36
        },
        "id": "9GiskqWUVNgw",
        "outputId": "bd0398d8-6401-4b3d-f3e9-db44e1d3e803"
      },
      "execution_count": 19,
      "outputs": [
        {
          "output_type": "execute_result",
          "data": {
            "text/plain": [
              "\"hello this is a picture of speech recognition i'm thinking about this weekend that transcription definition\""
            ],
            "application/vnd.google.colaboratory.intrinsic+json": {
              "type": "string"
            }
          },
          "metadata": {},
          "execution_count": 19
        }
      ]
    },
    {
      "cell_type": "markdown",
      "source": [
        "## Comparision"
      ],
      "metadata": {
        "id": "26SlXFJAgYkA"
      }
    },
    {
      "cell_type": "code",
      "source": [
        "!pip install jiwer"
      ],
      "metadata": {
        "colab": {
          "base_uri": "https://localhost:8080/"
        },
        "id": "mQpNW5mOc4fm",
        "outputId": "c097676a-e95d-4f46-ff58-24e302276c04"
      },
      "execution_count": 13,
      "outputs": [
        {
          "output_type": "stream",
          "name": "stdout",
          "text": [
            "Collecting jiwer\n",
            "  Downloading jiwer-4.0.0-py3-none-any.whl.metadata (3.3 kB)\n",
            "Requirement already satisfied: click>=8.1.8 in /usr/local/lib/python3.12/dist-packages (from jiwer) (8.2.1)\n",
            "Collecting rapidfuzz>=3.9.7 (from jiwer)\n",
            "  Downloading rapidfuzz-3.13.0-cp312-cp312-manylinux_2_17_x86_64.manylinux2014_x86_64.whl.metadata (12 kB)\n",
            "Downloading jiwer-4.0.0-py3-none-any.whl (23 kB)\n",
            "Downloading rapidfuzz-3.13.0-cp312-cp312-manylinux_2_17_x86_64.manylinux2014_x86_64.whl (3.1 MB)\n",
            "\u001b[2K   \u001b[90m━━━━━━━━━━━━━━━━━━━━━━━━━━━━━━━━━━━━━━━━\u001b[0m \u001b[32m3.1/3.1 MB\u001b[0m \u001b[31m48.8 MB/s\u001b[0m eta \u001b[36m0:00:00\u001b[0m\n",
            "\u001b[?25hInstalling collected packages: rapidfuzz, jiwer\n",
            "Successfully installed jiwer-4.0.0 rapidfuzz-3.13.0\n"
          ]
        }
      ]
    },
    {
      "cell_type": "code",
      "source": [
        "from jiwer import wer\n",
        "\n",
        "reference = \"Hello, this is a quick test for speech recognition. I’m speaking at a normal pace with clear pronunciation. The purpose of this recording is to check the accuracy of transcription. Whisper ASR should recognize every word correctly, even if I add a little variation in tone and speed. Thank you for listening, and let’s see how well the model performs on this audio clip\"\n",
        "clean=clean_audio_text\n",
        "noisy = noisy_audio_text\n",
        "cleaned = cleaned_audio_text\n",
        "# Calculate WER\n",
        "wer_clean = wer(reference, clean)\n",
        "wer_noisy = wer(reference, noisy)\n",
        "wer_cleaned = wer(reference, cleaned)\n",
        "\n",
        "# Print results as percentages\n",
        "print(f\"WER for clean transcription: {wer_clean * 100:.2f}%\")\n",
        "print(f\"WER for noisy transcription: {wer_noisy * 100:.2f}%\")\n",
        "print(f\"WER for cleaned transcription: {wer_cleaned * 100:.2f}%\")\n"
      ],
      "metadata": {
        "colab": {
          "base_uri": "https://localhost:8080/"
        },
        "id": "PgoLQqqJcLpt",
        "outputId": "f26ba584-8775-4457-9812-846bfde2982d"
      },
      "execution_count": 20,
      "outputs": [
        {
          "output_type": "stream",
          "name": "stdout",
          "text": [
            "WER for clean transcription: 32.81%\n",
            "WER for noisy transcription: 54.69%\n",
            "WER for cleaned transcription: 92.19%\n"
          ]
        }
      ]
    },
    {
      "cell_type": "code",
      "source": [],
      "metadata": {
        "id": "PCsmKvXyc3tq"
      },
      "execution_count": null,
      "outputs": []
    }
  ]
}